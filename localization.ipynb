{
 "cells": [
  {
   "cell_type": "code",
   "execution_count": 1,
   "metadata": {},
   "outputs": [],
   "source": [
    "import numpy as np \n",
    "from matplotlib import pyplot as plt\n",
    "from tensorflow.keras.layers import Flatten, Dense \n",
    "from tensorflow.keras.models import Model\n",
    "from tensorflow.keras.optimizers import Adam, SGD\n",
    "import tensorflow as tf"
   ]
  },
  {
   "cell_type": "code",
   "execution_count": 2,
   "metadata": {},
   "outputs": [],
   "source": [
    "vgg = tf.keras.applications.VGG16(\n",
    "    input_shape=[100,100,3], include_top= False, weights='imagenet')"
   ]
  },
  {
   "cell_type": "code",
   "execution_count": 3,
   "metadata": {},
   "outputs": [],
   "source": [
    "x = Flatten()(vgg.output)\n",
    "x = Dense(4, activation='sigmoid')(x)\n",
    "model = Model(vgg.input, x)"
   ]
  },
  {
   "cell_type": "code",
   "execution_count": 4,
   "metadata": {},
   "outputs": [],
   "source": [
    "def my_generator(batch_size=64):\n",
    "    while True:\n",
    "        for _ in range(50):\n",
    "            # generate X of size (batch_size, H, W, 3)\n",
    "            X = np.zeros((batch_size, 100, 100, 3)) # Already all black\n",
    "            Y = np.zeros((batch_size, 4))\n",
    "            \n",
    "            for i in range(batch_size):\n",
    "                row0 = np.random.randint(90)\n",
    "                col0 = np.random.randint(90) # Gotta leave space for actual box\n",
    "                row1 = np.random.randint(row0, 100)\n",
    "                col1 = np.random.randint(col0, 100)\n",
    "                X[i,row0:row1,col0:col1,:] = 1\n",
    "                # Generate y of size (batch_size, 4)\n",
    "                # gotta generate 4 numbers\n",
    "                # first 2 numbers: top-left corner\n",
    "                # second 2 numbers: heigt, width\n",
    "                Y[i,0] = row0/ 100\n",
    "                Y[i,1] = col0/ 100\n",
    "                Y[i,2] = (row1 - row0) / 100 \n",
    "                Y[i,3] = (col1 - col0) / 100\n",
    "            yield X, Y"
   ]
  },
  {
   "cell_type": "code",
   "execution_count": 5,
   "metadata": {},
   "outputs": [],
   "source": [
    "model.compile(loss='binary_crossentropy', optimizer=Adam(learning_rate=0.001))"
   ]
  },
  {
   "cell_type": "code",
   "execution_count": 6,
   "metadata": {},
   "outputs": [
    {
     "name": "stdout",
     "output_type": "stream",
     "text": [
      "Epoch 1/5\n"
     ]
    },
    {
     "name": "stdout",
     "output_type": "stream",
     "text": [
      "50/50 [==============================] - 13s 103ms/step - loss: 1.0903\n",
      "Epoch 2/5\n",
      "50/50 [==============================] - 5s 103ms/step - loss: 0.5266\n",
      "Epoch 3/5\n",
      "50/50 [==============================] - 4s 82ms/step - loss: 0.5113\n",
      "Epoch 4/5\n",
      "50/50 [==============================] - 4s 82ms/step - loss: 0.5079\n",
      "Epoch 5/5\n",
      "50/50 [==============================] - 4s 83ms/step - loss: 0.5071\n"
     ]
    },
    {
     "data": {
      "text/plain": [
       "<keras.callbacks.History at 0x1a302516c10>"
      ]
     },
     "execution_count": 6,
     "metadata": {},
     "output_type": "execute_result"
    }
   ],
   "source": [
    "model.fit(\n",
    "    my_generator(),\n",
    "    steps_per_epoch=50,\n",
    "    epochs=5\n",
    ")"
   ]
  },
  {
   "cell_type": "code",
   "execution_count": 7,
   "metadata": {},
   "outputs": [],
   "source": [
    "from matplotlib.patches import Rectangle\n",
    "\n",
    "# make predictions\n",
    "def make_prediction():\n",
    "    # need to create random images\n",
    "    x = np.zeros((100,100,3)) #image size\n",
    "    row0 = np.random.randint(90)\n",
    "    col0 = np.random.randint(90) \n",
    "    row1 = np.random.randint(row0, 100)\n",
    "    col1 = np.random.randint(col0, 100)\n",
    "    x[row0:row1,col0:col1,:] = 1\n",
    "    print(row0, col0, row1, col1)\n",
    "    \n",
    "    # Predict X \n",
    "    X = np.expand_dims(x,0)\n",
    "    p = model.predict(X)[0]\n",
    "    \n",
    "    # Draw the box\n",
    "    fig, ax = plt.subplots(1)\n",
    "    ax.imshow(x)\n",
    "    rect = Rectangle(\n",
    "        (p[1]*100, p[0]*100),\n",
    "        p[3]* 100, p[2]*100, linewidth=1, edgecolor='r', facecolor='none')\n",
    "    \n",
    "    ax.add_patch(rect)\n",
    "    plt.show"
   ]
  },
  {
   "cell_type": "code",
   "execution_count": 8,
   "metadata": {},
   "outputs": [
    {
     "name": "stdout",
     "output_type": "stream",
     "text": [
      "64 86 75 91\n",
      "1/1 [==============================] - 0s 259ms/step\n"
     ]
    },
    {
     "data": {
      "image/png": "[encoded data removed]",
      "text/plain": [
       "<Figure size 640x480 with 1 Axes>"
      ]
     },
     "metadata": {},
     "output_type": "display_data"
    }
   ],
   "source": [
    "make_prediction()"
   ]
  },
  {
   "cell_type": "code",
   "execution_count": 11,
   "metadata": {},
   "outputs": [
    {
     "name": "stdout",
     "output_type": "stream",
     "text": [
      "2.10.1\n"
     ]
    }
   ],
   "source": [
    "print(tf.__version__)"
   ]
  },
  {
   "cell_type": "code",
   "execution_count": 13,
   "metadata": {},
   "outputs": [],
   "source": [
    "from tensorflow.keras.preprocessing import image "
   ]
  },
  {
   "cell_type": "code",
   "execution_count": 14,
   "metadata": {},
   "outputs": [
    {
     "data": {
      "image/png": "[encoded data removed]",
      "text/plain": [
       "<Figure size 640x480 with 1 Axes>"
      ]
     },
     "metadata": {},
     "output_type": "display_data"
    }
   ],
   "source": [
    "ch = image.load_img('styles/charmander-tight.png')\n",
    "plt.imshow(ch)\n",
    "plt.show()"
   ]
  },
  {
   "cell_type": "code",
   "execution_count": 15,
   "metadata": {},
   "outputs": [
    {
     "data": {
      "text/plain": [
       "(56, 44, 3)"
      ]
     },
     "execution_count": 15,
     "metadata": {},
     "output_type": "execute_result"
    }
   ],
   "source": [
    "np.array(ch).shape"
   ]
  },
  {
   "cell_type": "code",
   "execution_count": 16,
   "metadata": {},
   "outputs": [],
   "source": [
    "from imageio.v3 import imread"
   ]
  },
  {
   "cell_type": "code",
   "execution_count": 17,
   "metadata": {},
   "outputs": [],
   "source": [
    "ch = imread('styles/charmander-tight.png')"
   ]
  },
  {
   "cell_type": "code",
   "execution_count": 18,
   "metadata": {},
   "outputs": [
    {
     "data": {
      "text/plain": [
       "<matplotlib.image.AxesImage at 0x1a34d37d6a0>"
      ]
     },
     "execution_count": 18,
     "metadata": {},
     "output_type": "execute_result"
    },
    {
     "data": {
      "image/png": "[encoded data removed]",
      "text/plain": [
       "<Figure size 640x480 with 1 Axes>"
      ]
     },
     "metadata": {},
     "output_type": "display_data"
    }
   ],
   "source": [
    "plt.imshow(ch)"
   ]
  },
  {
   "cell_type": "code",
   "execution_count": 19,
   "metadata": {},
   "outputs": [
    {
     "data": {
      "text/plain": [
       "(56, 44, 4)"
      ]
     },
     "execution_count": 19,
     "metadata": {},
     "output_type": "execute_result"
    }
   ],
   "source": [
    "type(ch)\n",
    "ch.shape"
   ]
  },
  {
   "cell_type": "markdown",
   "metadata": {},
   "source": [
    "- 4th channel for png encode transparency as well compared to jpeg\n",
    "- the alpha channel tells us how transparent each pixel is"
   ]
  },
  {
   "cell_type": "code",
   "execution_count": 20,
   "metadata": {},
   "outputs": [
    {
     "data": {
      "image/png": "[encoded data removed]",
      "text/plain": [
       "<Figure size 640x480 with 1 Axes>"
      ]
     },
     "metadata": {},
     "output_type": "display_data"
    }
   ],
   "source": [
    "# Whats in the 4th channel?\n",
    "plt.imshow(ch[:,:,3])\n",
    "plt.show()"
   ]
  },
  {
   "cell_type": "code",
   "execution_count": 21,
   "metadata": {},
   "outputs": [
    {
     "data": {
      "image/png": "[encoded data removed]",
      "text/plain": [
       "<Figure size 640x480 with 1 Axes>"
      ]
     },
     "metadata": {},
     "output_type": "display_data"
    },
    {
     "data": {
      "text/plain": [
       "{0, 255}"
      ]
     },
     "execution_count": 21,
     "metadata": {},
     "output_type": "execute_result"
    }
   ],
   "source": [
    "plt.hist(ch[:,:,3].flatten())\n",
    "plt.show()\n",
    "set(ch[:,:,3].flatten())"
   ]
  },
  {
   "cell_type": "code",
   "execution_count": 22,
   "metadata": {},
   "outputs": [],
   "source": [
    "POKE_DIM = 200\n",
    "ch = np.array(ch)\n",
    "CH_H, CH_W, _ = ch.shape\n",
    "\n",
    "def pokemon_generator(batch_size=64):\n",
    "    while True:\n",
    "        for _ in range(50):\n",
    "            X = np.zeros((batch_size, POKE_DIM, POKE_DIM, 3))\n",
    "            Y = np.zeros((batch_size, 4))\n",
    "            \n",
    "            for i in range(batch_size):\n",
    "                row0 = np.random.randint(POKE_DIM - CH_H)\n",
    "                col0 = np.random.randint(POKE_DIM - CH_W)\n",
    "                row1 = row0 + CH_H\n",
    "                col1 = col0 + CH_W\n",
    "                X[i,row0:row1,col0:col1,:] = ch[:,:,:3]\n",
    "                Y[i,0] = row0/POKE_DIM\n",
    "                Y[i,1] = col0/POKE_DIM\n",
    "                \n",
    "                # make pokemon different sizes\n",
    "                Y[i,2] = (row1 - row0)/POKE_DIM\n",
    "                Y[i,3] = (col1 - col0)/POKE_DIM\n",
    "                \n",
    "            yield X / 255., Y"
   ]
  },
  {
   "cell_type": "code",
   "execution_count": 23,
   "metadata": {},
   "outputs": [],
   "source": [
    "def make_model():\n",
    "    vgg = tf.keras.applications.VGG16(\n",
    "        input_shape=[POKE_DIM, POKE_DIM, 3],\n",
    "        include_top=False,\n",
    "        weights='imagenet')\n",
    "    \n",
    "    x = Flatten()(vgg.output)\n",
    "    x = Dense(4, activation='sigmoid')(x)\n",
    "    model = Model(vgg.input, x)\n",
    "    model.compile(loss='binary_crossentropy', optimizer=Adam(learning_rate=0.001))\n",
    "    return model"
   ]
  },
  {
   "cell_type": "code",
   "execution_count": 24,
   "metadata": {},
   "outputs": [
    {
     "name": "stdout",
     "output_type": "stream",
     "text": [
      "Epoch 1/5\n"
     ]
    },
    {
     "name": "stderr",
     "output_type": "stream",
     "text": [
      "C:\\Users\\kenny\\AppData\\Local\\Temp\\ipykernel_19400\\1521849318.py:2: UserWarning: `Model.fit_generator` is deprecated and will be removed in a future version. Please use `Model.fit`, which supports generators.\n",
      "  model.fit_generator(\n"
     ]
    },
    {
     "name": "stdout",
     "output_type": "stream",
     "text": [
      "50/50 [==============================] - 35s 368ms/step - loss: 0.6851\n",
      "Epoch 2/5\n",
      "50/50 [==============================] - 16s 321ms/step - loss: 0.5572\n",
      "Epoch 3/5\n",
      "50/50 [==============================] - 15s 303ms/step - loss: 0.5534\n",
      "Epoch 4/5\n",
      "50/50 [==============================] - 15s 305ms/step - loss: 0.5541\n",
      "Epoch 5/5\n",
      "50/50 [==============================] - 15s 306ms/step - loss: 0.5520\n"
     ]
    },
    {
     "data": {
      "text/plain": [
       "<keras.callbacks.History at 0x1a33b6981c0>"
      ]
     },
     "execution_count": 24,
     "metadata": {},
     "output_type": "execute_result"
    }
   ],
   "source": [
    "model = make_model()\n",
    "model.fit_generator(\n",
    "    pokemon_generator(),\n",
    "    steps_per_epoch=50,\n",
    "    epochs=5\n",
    ")"
   ]
  },
  {
   "cell_type": "code",
   "execution_count": 25,
   "metadata": {},
   "outputs": [],
   "source": [
    "# make predictions\n",
    "def pokemon_prediction():\n",
    "    # need to create random images\n",
    "    x = np.zeros((POKE_DIM, POKE_DIM,3)) #image size\n",
    "    row0 = np.random.randint(POKE_DIM - CH_H)\n",
    "    col0 = np.random.randint(POKE_DIM - CH_W) \n",
    "    row1 = row0 + CH_H\n",
    "    col1 = col0 + CH_W\n",
    "    x[row0:row1,col0:col1,:] = ch[:,:,:3]\n",
    "    print('true:', row0, col0, row1, col1)\n",
    "    \n",
    "    # Predict X \n",
    "    X = np.expand_dims(x,0) / 255.\n",
    "    p = model.predict(X)[0]\n",
    "    \n",
    "    #calculate target/loss\n",
    "    y = np.zeros(4)\n",
    "    y[0] = row0/POKE_DIM\n",
    "    y[1] = col0/POKE_DIM\n",
    "    y[2] = (row1 - row0)/POKE_DIM\n",
    "    y[3] = (col1 - col0)/POKE_DIM\n",
    "    \n",
    "    # Draw box\n",
    "    row0 = int(p[0]*POKE_DIM)\n",
    "    col0 = int(p[1]*POKE_DIM)\n",
    "    row1 = int(row0 + p[2]*POKE_DIM)\n",
    "    col1 = int(col0 + p[3]*POKE_DIM)\n",
    "    print('pred:', row0, col0, row1, col1)\n",
    "    print('loss:', -np.mean(y * np.log(p) + (1-y)*np.log(1-p)))\n",
    "    \n",
    "    fig,ax = plt.subplots(1)\n",
    "    ax.imshow(x.astype(np.uint8))\n",
    "    rect= Rectangle(\n",
    "        (p[1]*POKE_DIM, p[0]*POKE_DIM),\n",
    "        p[3]* POKE_DIM, p[2]*POKE_DIM, linewidth=1, edgecolor='r', facecolor='none')  \n",
    "    ax.add_patch(rect)\n",
    "    plt.show\n"
   ]
  },
  {
   "cell_type": "code",
   "execution_count": 26,
   "metadata": {},
   "outputs": [
    {
     "name": "stdout",
     "output_type": "stream",
     "text": [
      "true: 73 56 129 100\n",
      "1/1 [==============================] - 0s 376ms/step\n",
      "pred: 75 55 131 99\n",
      "loss: 0.592352082580328\n"
     ]
    },
    {
     "data": {
      "image/png": "[encoded data removed]",
      "text/plain": [
       "<Figure size 640x480 with 1 Axes>"
      ]
     },
     "metadata": {},
     "output_type": "display_data"
    }
   ],
   "source": [
    "pokemon_prediction()"
   ]
  },
  {
   "cell_type": "code",
   "execution_count": 27,
   "metadata": {},
   "outputs": [],
   "source": [
    "from skimage.transform import resize"
   ]
  },
  {
   "cell_type": "code",
   "execution_count": 28,
   "metadata": {},
   "outputs": [],
   "source": [
    "def pokemon_generator_with_resize(batch_size=64):\n",
    "    while True:\n",
    "        for _ in range(50):\n",
    "            X = np.zeros((batch_size, POKE_DIM, POKE_DIM, 3))\n",
    "            Y = np.zeros((batch_size, 4))\n",
    "            \n",
    "            for i in range(batch_size):\n",
    "                scale = 0.5 + np.random.random() # 0.5,1.5\n",
    "                new_height = int(CH_H * scale)\n",
    "                new_width = int(CH_W * scale)\n",
    "                obj = resize(\n",
    "                    ch,\n",
    "                    (new_height, new_width),\n",
    "                    preserve_range=True).astype(np.uint8) # stays in range 0-255\n",
    "                \n",
    "                row0 = np.random.randint(POKE_DIM - new_height)\n",
    "                col0 = np.random.randint(POKE_DIM - new_width) \n",
    "                row1 = row0 + new_height\n",
    "                col1 = col0 + new_width\n",
    "                X[i,row0:row1,col0:col1,:] = obj[:,:,:3]\n",
    "                Y[i,0] = row0/POKE_DIM\n",
    "                Y[i,1] = col0/POKE_DIM\n",
    "                \n",
    "                # make pokemon different sizes\n",
    "                Y[i,2] = (row1 - row0)/POKE_DIM\n",
    "                Y[i,3] = (col1 - col0)/POKE_DIM\n",
    "            \n",
    "            yield X/255., Y"
   ]
  },
  {
   "cell_type": "code",
   "execution_count": 29,
   "metadata": {},
   "outputs": [],
   "source": [
    "def make_model2():\n",
    "    vgg = tf.keras.applications.VGG16(\n",
    "        input_shape=[POKE_DIM, POKE_DIM, 3],\n",
    "        include_top=False,\n",
    "        weights='imagenet'\n",
    "    )\n",
    "    x = Flatten()(vgg.output)\n",
    "    x = Dense(4, activation='sigmoid')(x)\n",
    "    model = Model(vgg.input, x)\n",
    "    model.compile(loss='binary_crossentropy', optimizer=Adam(learning_rate=0.001))\n",
    "    return model"
   ]
  },
  {
   "cell_type": "code",
   "execution_count": 30,
   "metadata": {},
   "outputs": [
    {
     "name": "stdout",
     "output_type": "stream",
     "text": [
      "Epoch 1/5\n",
      "50/50 [==============================] - 18s 341ms/step - loss: 0.6925\n",
      "Epoch 2/5\n",
      "50/50 [==============================] - 15s 306ms/step - loss: 0.5502\n",
      "Epoch 3/5\n",
      "50/50 [==============================] - 15s 308ms/step - loss: 0.5572\n",
      "Epoch 4/5\n",
      "50/50 [==============================] - 19s 377ms/step - loss: 0.5447\n",
      "Epoch 5/5\n",
      "50/50 [==============================] - 16s 313ms/step - loss: 0.5429\n"
     ]
    },
    {
     "data": {
      "text/plain": [
       "<keras.callbacks.History at 0x1a60f207c40>"
      ]
     },
     "execution_count": 30,
     "metadata": {},
     "output_type": "execute_result"
    }
   ],
   "source": [
    "model = make_model2()\n",
    "model.fit(\n",
    "    pokemon_generator_with_resize(),\n",
    "    steps_per_epoch=50,\n",
    "    epochs=5\n",
    ")"
   ]
  },
  {
   "cell_type": "code",
   "execution_count": 31,
   "metadata": {},
   "outputs": [],
   "source": [
    "def pokemon_prediction_with_resize():\n",
    "    scale = 0.5 + np.random.random()\n",
    "    new_height = int(CH_H * scale)\n",
    "    new_width = int(CH_W * scale)\n",
    "    obj = resize(\n",
    "        ch,\n",
    "        (new_height, new_width),\n",
    "        preserve_range=True).astype(np.uint8)\n",
    "    \n",
    "    x = np.zeros((POKE_DIM, POKE_DIM, 3))\n",
    "    row0 = np.random.randint(POKE_DIM - new_height)\n",
    "    col0 = np.random.randint(POKE_DIM - new_width) \n",
    "    row1 = row0 + new_height\n",
    "    col1 = col0 + new_width\n",
    "    x[row0:row1,col0:col1,:] = obj[:,:,:3]\n",
    "    print('true:', row0, col0, row1, col1)\n",
    "    \n",
    "    # Predict\n",
    "    X = np.expand_dims(x,0) / 255.\n",
    "    p = model.predict(X)[0]\n",
    "    \n",
    "    # Draw\n",
    "    row0 = int(p[0]*POKE_DIM)\n",
    "    col0 = int(p[1]*POKE_DIM)\n",
    "    row1 = int(row0 + p[2]*POKE_DIM)\n",
    "    col1 = int(col0 + p[3]*POKE_DIM)\n",
    "    print('pred:', row0, col0, row1, col1)\n",
    "    \n",
    "    fig,ax = plt.subplots(1)\n",
    "    ax.imshow(x.astype(np.uint8))\n",
    "    rect= Rectangle(\n",
    "        (p[1]*POKE_DIM, p[0]*POKE_DIM),\n",
    "        p[3]* POKE_DIM, p[2]*POKE_DIM, linewidth=1, edgecolor='r', facecolor='none')  \n",
    "    ax.add_patch(rect)\n",
    "    plt.show"
   ]
  },
  {
   "cell_type": "code",
   "execution_count": 32,
   "metadata": {},
   "outputs": [
    {
     "name": "stdout",
     "output_type": "stream",
     "text": [
      "true: 74 109 145 165\n",
      "1/1 [==============================] - 0s 97ms/step\n",
      "pred: 76 109 146 162\n"
     ]
    },
    {
     "data": {
      "image/png": "[encoded data removed]",
      "text/plain": [
       "<Figure size 640x480 with 1 Axes>"
      ]
     },
     "metadata": {},
     "output_type": "display_data"
    }
   ],
   "source": [
    "pokemon_prediction_with_resize()"
   ]
  },
  {
   "cell_type": "code",
   "execution_count": 33,
   "metadata": {},
   "outputs": [],
   "source": [
    "def pokemon_generator_flip(batch_size=64):\n",
    "    while True:\n",
    "        for _ in range(50):\n",
    "            X = np.zeros((batch_size, POKE_DIM, POKE_DIM, 3))\n",
    "            Y = np.zeros((batch_size, 4))\n",
    "            \n",
    "            for i in range(batch_size):\n",
    "                row0 = np.random.randint(POKE_DIM - CH_H)\n",
    "                col0 = np.random.randint(POKE_DIM - CH_W)\n",
    "                row1 = row0 + CH_H\n",
    "                col1 = col0 + CH_W\n",
    "                \n",
    "                if np.random.random() < 0.5:\n",
    "                    obj = np.fliplr(ch)\n",
    "                else:\n",
    "                    obj = ch\n",
    "                    \n",
    "                X[i,row0:row1,col0:col1,:] = obj[:,:,:3]\n",
    "                Y[i,0] = row0/POKE_DIM\n",
    "                Y[i,1] = col0/POKE_DIM\n",
    "                \n",
    "                # make pokemon different sizes\n",
    "                Y[i,2] = (row1 - row0)/POKE_DIM\n",
    "                Y[i,3] = (col1 - col0)/POKE_DIM\n",
    "            \n",
    "            yield X/255., Y"
   ]
  },
  {
   "cell_type": "code",
   "execution_count": 34,
   "metadata": {},
   "outputs": [
    {
     "name": "stdout",
     "output_type": "stream",
     "text": [
      "Epoch 1/5\n",
      "50/50 [==============================] - 19s 374ms/step - loss: 0.5997\n",
      "Epoch 2/5\n",
      "50/50 [==============================] - 15s 310ms/step - loss: 0.5553\n",
      "Epoch 3/5\n",
      "50/50 [==============================] - 15s 308ms/step - loss: 0.5527\n",
      "Epoch 4/5\n",
      "50/50 [==============================] - 16s 313ms/step - loss: 0.5545\n",
      "Epoch 5/5\n",
      "50/50 [==============================] - 16s 312ms/step - loss: 0.5515\n"
     ]
    },
    {
     "data": {
      "text/plain": [
       "<keras.callbacks.History at 0x1a61a3955e0>"
      ]
     },
     "execution_count": 34,
     "metadata": {},
     "output_type": "execute_result"
    }
   ],
   "source": [
    "model = make_model()\n",
    "model.fit(\n",
    "    pokemon_generator_flip(),\n",
    "    steps_per_epoch=50,\n",
    "    epochs=5\n",
    ")"
   ]
  },
  {
   "cell_type": "code",
   "execution_count": 35,
   "metadata": {},
   "outputs": [],
   "source": [
    "def pokemon_prediction_flip():\n",
    "    x = np.zeros((POKE_DIM, POKE_DIM, 3))\n",
    "    row0 = np.random.randint(POKE_DIM - CH_H)\n",
    "    col0 = np.random.randint(POKE_DIM - CH_W)\n",
    "    row1 = row0 + CH_H\n",
    "    col1 = col0 + CH_W\n",
    "    \n",
    "    if np.random.random() < 0.5:\n",
    "        obj = np.fliplr(ch)\n",
    "    else:\n",
    "        obj = ch\n",
    "    \n",
    "    x[row0:row1,col0:col1,:] = obj[:,:,:3]\n",
    "    print('true:', row0, col0, row1, col1)\n",
    "    # Predict\n",
    "    X = np.expand_dims(x,0) / 255.\n",
    "    p = model.predict(X)[0]\n",
    "    \n",
    "    # Draw\n",
    "    row0 = int(p[0]*POKE_DIM)\n",
    "    col0 = int(p[1]*POKE_DIM)\n",
    "    row1 = int(row0 + p[2]*POKE_DIM)\n",
    "    col1 = int(col0 + p[3]*POKE_DIM)\n",
    "    print('pred:', row0, col0, row1, col1)\n",
    "    \n",
    "    fig,ax = plt.subplots(1)\n",
    "    ax.imshow(x.astype(np.uint8))\n",
    "    rect= Rectangle(\n",
    "        (p[1]*POKE_DIM, p[0]*POKE_DIM),\n",
    "        p[3]* POKE_DIM, p[2]*POKE_DIM, linewidth=1, edgecolor='r', facecolor='none')  \n",
    "    ax.add_patch(rect)\n",
    "    plt.show"
   ]
  },
  {
   "cell_type": "code",
   "execution_count": 36,
   "metadata": {},
   "outputs": [
    {
     "name": "stdout",
     "output_type": "stream",
     "text": [
      "true: 0 128 56 172\n",
      "1/1 [==============================] - 0s 85ms/step\n",
      "pred: 2 127 59 171\n"
     ]
    },
    {
     "data": {
      "image/png": "[encoded data removed]",
      "text/plain": [
       "<Figure size 640x480 with 1 Axes>"
      ]
     },
     "metadata": {},
     "output_type": "display_data"
    }
   ],
   "source": [
    "pokemon_prediction_flip()"
   ]
  }
 ],
 "metadata": {
  "kernelspec": {
   "display_name": "tf_optimized",
   "language": "python",
   "name": "python3"
  },
  "language_info": {
   "codemirror_mode": {
    "name": "ipython",
    "version": 3
   },
   "file_extension": ".py",
   "mimetype": "text/x-python",
   "name": "python",
   "nbconvert_exporter": "python",
   "pygments_lexer": "ipython3",
   "version": "3.8.18"
  }
 },
 "nbformat": 4,
 "nbformat_minor": 2
}
